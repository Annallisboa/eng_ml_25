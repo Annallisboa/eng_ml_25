{
 "cells": [
  {
   "cell_type": "code",
   "execution_count": null,
   "id": "51f1674d-1e00-4e80-aadf-e38907e1e117",
   "metadata": {},
   "outputs": [],
   "source": [
    "data_filtered = catalog.load('data_filtered')"
   ]
  },
  {
   "cell_type": "markdown",
   "id": "9ad68459-3d67-40db-b849-8202fd029d20",
   "metadata": {},
   "source": [
    "## Dimensão do Dataset"
   ]
  },
  {
   "cell_type": "code",
   "execution_count": null,
   "id": "97520d85-e2d4-4a7d-b2d1-92aefe3d2342",
   "metadata": {},
   "outputs": [],
   "source": [
    "data_filtered.shape"
   ]
  },
  {
   "cell_type": "code",
   "execution_count": null,
   "id": "46f6b939-66df-44a3-99dc-43ca08303f3a",
   "metadata": {},
   "outputs": [],
   "source": [
    "data_filtered.info()"
   ]
  },
  {
   "cell_type": "markdown",
   "id": "4b5f0f6a-ca9e-455b-9bc5-29ae9189d6ab",
   "metadata": {},
   "source": [
    "## Treino e Teste"
   ]
  },
  {
   "cell_type": "code",
   "execution_count": null,
   "id": "a6087771-989e-4483-8bef-d52ea9428fe2",
   "metadata": {},
   "outputs": [],
   "source": [
    "from sklearn.model_selection import train_test_split\n",
    "\n",
    "def split_data(data_filtered, target_column, test_size=0.2, random_state=42):\n",
    "    X = data_filtered.drop(columns=[shot_made_flag])\n",
    "    y = data_filtered[shot_made_flag]\n",
    "    \n",
    "    X_train, X_test, y_train, y_test = train_test_split(\n",
    "        X, y, test_size=test_size, random_state=random_state, stratify=y\n",
    "    )\n",
    "\n",
    "    train = X_train.copy()\n",
    "    train[target_column] = y_train\n",
    "\n",
    "    test = X_test.copy()\n",
    "    test[target_column] = y_test\n",
    "\n",
    "    return train, test\n"
   ]
  },
  {
   "cell_type": "code",
   "execution_count": 1,
   "id": "57559178-2f47-4b6f-9ecf-ceef378175c6",
   "metadata": {},
   "outputs": [
    {
     "data": {
      "text/html": [
       "<pre style=\"white-space:pre;overflow-x:auto;line-height:normal;font-family:Menlo,'DejaVu Sans Mono',consolas,'Courier New',monospace\"><span style=\"color: #7fbfbf; text-decoration-color: #7fbfbf\">[04/05/25 22:11:50] </span><span style=\"color: #000080; text-decoration-color: #000080\">INFO    </span> Loading data from <span style=\"color: #ff8700; text-decoration-color: #ff8700\">train</span> <span style=\"font-weight: bold\">(</span>ParquetDataset<span style=\"font-weight: bold\">)</span><span style=\"color: #808000; text-decoration-color: #808000\">...</span>                        <a href=\"file://C:\\Users\\anna_\\PycharmProjects\\pythonProject3\\.venv\\Lib\\site-packages\\kedro\\io\\data_catalog.py\" target=\"_blank\"><span style=\"color: #7f7f7f; text-decoration-color: #7f7f7f\">data_catalog.py</span></a><span style=\"color: #7f7f7f; text-decoration-color: #7f7f7f\">:</span><a href=\"file://C:\\Users\\anna_\\PycharmProjects\\pythonProject3\\.venv\\Lib\\site-packages\\kedro\\io\\data_catalog.py#401\" target=\"_blank\"><span style=\"color: #7f7f7f; text-decoration-color: #7f7f7f\">401</span></a>\n",
       "</pre>\n"
      ],
      "text/plain": [
       "\u001b[2;36m[04/05/25 22:11:50]\u001b[0m\u001b[2;36m \u001b[0m\u001b[34mINFO    \u001b[0m Loading data from \u001b[38;5;208mtrain\u001b[0m \u001b[1m(\u001b[0mParquetDataset\u001b[1m)\u001b[0m\u001b[33m...\u001b[0m                        \u001b]8;id=988175;file://C:\\Users\\anna_\\PycharmProjects\\pythonProject3\\.venv\\Lib\\site-packages\\kedro\\io\\data_catalog.py\u001b\\\u001b[2mdata_catalog.py\u001b[0m\u001b]8;;\u001b\\\u001b[2m:\u001b[0m\u001b]8;id=940969;file://C:\\Users\\anna_\\PycharmProjects\\pythonProject3\\.venv\\Lib\\site-packages\\kedro\\io\\data_catalog.py#401\u001b\\\u001b[2m401\u001b[0m\u001b]8;;\u001b\\\n"
      ]
     },
     "metadata": {},
     "output_type": "display_data"
    }
   ],
   "source": [
    "train = catalog.load(\"train\")"
   ]
  },
  {
   "cell_type": "code",
   "execution_count": 2,
   "id": "ec802719-63cd-455b-a022-6f13e6fd25d8",
   "metadata": {},
   "outputs": [],
   "source": [
    "from pycaret.classification import *"
   ]
  },
  {
   "cell_type": "code",
   "execution_count": 3,
   "id": "6f1fc804-1e3a-4a27-aecf-1d19bd252ce9",
   "metadata": {},
   "outputs": [
    {
     "data": {
      "text/html": [
       "<pre style=\"white-space:pre;overflow-x:auto;line-height:normal;font-family:Menlo,'DejaVu Sans Mono',consolas,'Courier New',monospace\"><span style=\"color: #7fbfbf; text-decoration-color: #7fbfbf\">[04/05/25 22:11:55] </span><span style=\"color: #000080; text-decoration-color: #000080\">INFO    </span> Loading data from <span style=\"color: #ff8700; text-decoration-color: #ff8700\">params:session_id</span> <span style=\"font-weight: bold\">(</span>MemoryDataset<span style=\"font-weight: bold\">)</span><span style=\"color: #808000; text-decoration-color: #808000\">...</span>             <a href=\"file://C:\\Users\\anna_\\PycharmProjects\\pythonProject3\\.venv\\Lib\\site-packages\\kedro\\io\\data_catalog.py\" target=\"_blank\"><span style=\"color: #7f7f7f; text-decoration-color: #7f7f7f\">data_catalog.py</span></a><span style=\"color: #7f7f7f; text-decoration-color: #7f7f7f\">:</span><a href=\"file://C:\\Users\\anna_\\PycharmProjects\\pythonProject3\\.venv\\Lib\\site-packages\\kedro\\io\\data_catalog.py#401\" target=\"_blank\"><span style=\"color: #7f7f7f; text-decoration-color: #7f7f7f\">401</span></a>\n",
       "</pre>\n"
      ],
      "text/plain": [
       "\u001b[2;36m[04/05/25 22:11:55]\u001b[0m\u001b[2;36m \u001b[0m\u001b[34mINFO    \u001b[0m Loading data from \u001b[38;5;208mparams:session_id\u001b[0m \u001b[1m(\u001b[0mMemoryDataset\u001b[1m)\u001b[0m\u001b[33m...\u001b[0m             \u001b]8;id=490086;file://C:\\Users\\anna_\\PycharmProjects\\pythonProject3\\.venv\\Lib\\site-packages\\kedro\\io\\data_catalog.py\u001b\\\u001b[2mdata_catalog.py\u001b[0m\u001b]8;;\u001b\\\u001b[2m:\u001b[0m\u001b]8;id=316319;file://C:\\Users\\anna_\\PycharmProjects\\pythonProject3\\.venv\\Lib\\site-packages\\kedro\\io\\data_catalog.py#401\u001b\\\u001b[2m401\u001b[0m\u001b]8;;\u001b\\\n"
      ]
     },
     "metadata": {},
     "output_type": "display_data"
    },
    {
     "data": {
      "text/html": [
       "<pre style=\"white-space:pre;overflow-x:auto;line-height:normal;font-family:Menlo,'DejaVu Sans Mono',consolas,'Courier New',monospace\"></pre>\n"
      ],
      "text/plain": []
     },
     "metadata": {},
     "output_type": "display_data"
    },
    {
     "data": {
      "text/plain": [
       "\u001b[1;36m1234\u001b[0m"
      ]
     },
     "execution_count": 3,
     "metadata": {},
     "output_type": "execute_result"
    }
   ],
   "source": [
    "session_id = catalog.load(\"params:session_id\")\n",
    "session_id"
   ]
  },
  {
   "cell_type": "code",
   "execution_count": 4,
   "id": "8d68360e-d946-44be-93b5-0aa4b87deaec",
   "metadata": {
    "scrolled": true
   },
   "outputs": [
    {
     "data": {
      "text/html": [
       "<pre style=\"white-space:pre;overflow-x:auto;line-height:normal;font-family:Menlo,'DejaVu Sans Mono',consolas,'Courier New',monospace\"></pre>\n"
      ],
      "text/plain": []
     },
     "metadata": {},
     "output_type": "display_data"
    },
    {
     "data": {
      "text/html": [
       "<style type=\"text/css\">\n",
       "#T_e4ed9_row8_col1 {\n",
       "  background-color: lightgreen;\n",
       "}\n",
       "</style>\n",
       "<table id=\"T_e4ed9\">\n",
       "  <thead>\n",
       "    <tr>\n",
       "      <th class=\"blank level0\" >&nbsp;</th>\n",
       "      <th id=\"T_e4ed9_level0_col0\" class=\"col_heading level0 col0\" >Description</th>\n",
       "      <th id=\"T_e4ed9_level0_col1\" class=\"col_heading level0 col1\" >Value</th>\n",
       "    </tr>\n",
       "  </thead>\n",
       "  <tbody>\n",
       "    <tr>\n",
       "      <th id=\"T_e4ed9_level0_row0\" class=\"row_heading level0 row0\" >0</th>\n",
       "      <td id=\"T_e4ed9_row0_col0\" class=\"data row0 col0\" >Session id</td>\n",
       "      <td id=\"T_e4ed9_row0_col1\" class=\"data row0 col1\" >1234</td>\n",
       "    </tr>\n",
       "    <tr>\n",
       "      <th id=\"T_e4ed9_level0_row1\" class=\"row_heading level0 row1\" >1</th>\n",
       "      <td id=\"T_e4ed9_row1_col0\" class=\"data row1 col0\" >Target</td>\n",
       "      <td id=\"T_e4ed9_row1_col1\" class=\"data row1 col1\" >shot_made_flag</td>\n",
       "    </tr>\n",
       "    <tr>\n",
       "      <th id=\"T_e4ed9_level0_row2\" class=\"row_heading level0 row2\" >2</th>\n",
       "      <td id=\"T_e4ed9_row2_col0\" class=\"data row2 col0\" >Target type</td>\n",
       "      <td id=\"T_e4ed9_row2_col1\" class=\"data row2 col1\" >Binary</td>\n",
       "    </tr>\n",
       "    <tr>\n",
       "      <th id=\"T_e4ed9_level0_row3\" class=\"row_heading level0 row3\" >3</th>\n",
       "      <td id=\"T_e4ed9_row3_col0\" class=\"data row3 col0\" >Original data shape</td>\n",
       "      <td id=\"T_e4ed9_row3_col1\" class=\"data row3 col1\" >(16228, 7)</td>\n",
       "    </tr>\n",
       "    <tr>\n",
       "      <th id=\"T_e4ed9_level0_row4\" class=\"row_heading level0 row4\" >4</th>\n",
       "      <td id=\"T_e4ed9_row4_col0\" class=\"data row4 col0\" >Transformed data shape</td>\n",
       "      <td id=\"T_e4ed9_row4_col1\" class=\"data row4 col1\" >(16228, 7)</td>\n",
       "    </tr>\n",
       "    <tr>\n",
       "      <th id=\"T_e4ed9_level0_row5\" class=\"row_heading level0 row5\" >5</th>\n",
       "      <td id=\"T_e4ed9_row5_col0\" class=\"data row5 col0\" >Transformed train set shape</td>\n",
       "      <td id=\"T_e4ed9_row5_col1\" class=\"data row5 col1\" >(11359, 7)</td>\n",
       "    </tr>\n",
       "    <tr>\n",
       "      <th id=\"T_e4ed9_level0_row6\" class=\"row_heading level0 row6\" >6</th>\n",
       "      <td id=\"T_e4ed9_row6_col0\" class=\"data row6 col0\" >Transformed test set shape</td>\n",
       "      <td id=\"T_e4ed9_row6_col1\" class=\"data row6 col1\" >(4869, 7)</td>\n",
       "    </tr>\n",
       "    <tr>\n",
       "      <th id=\"T_e4ed9_level0_row7\" class=\"row_heading level0 row7\" >7</th>\n",
       "      <td id=\"T_e4ed9_row7_col0\" class=\"data row7 col0\" >Numeric features</td>\n",
       "      <td id=\"T_e4ed9_row7_col1\" class=\"data row7 col1\" >6</td>\n",
       "    </tr>\n",
       "    <tr>\n",
       "      <th id=\"T_e4ed9_level0_row8\" class=\"row_heading level0 row8\" >8</th>\n",
       "      <td id=\"T_e4ed9_row8_col0\" class=\"data row8 col0\" >Preprocess</td>\n",
       "      <td id=\"T_e4ed9_row8_col1\" class=\"data row8 col1\" >True</td>\n",
       "    </tr>\n",
       "    <tr>\n",
       "      <th id=\"T_e4ed9_level0_row9\" class=\"row_heading level0 row9\" >9</th>\n",
       "      <td id=\"T_e4ed9_row9_col0\" class=\"data row9 col0\" >Imputation type</td>\n",
       "      <td id=\"T_e4ed9_row9_col1\" class=\"data row9 col1\" >simple</td>\n",
       "    </tr>\n",
       "    <tr>\n",
       "      <th id=\"T_e4ed9_level0_row10\" class=\"row_heading level0 row10\" >10</th>\n",
       "      <td id=\"T_e4ed9_row10_col0\" class=\"data row10 col0\" >Numeric imputation</td>\n",
       "      <td id=\"T_e4ed9_row10_col1\" class=\"data row10 col1\" >mean</td>\n",
       "    </tr>\n",
       "    <tr>\n",
       "      <th id=\"T_e4ed9_level0_row11\" class=\"row_heading level0 row11\" >11</th>\n",
       "      <td id=\"T_e4ed9_row11_col0\" class=\"data row11 col0\" >Categorical imputation</td>\n",
       "      <td id=\"T_e4ed9_row11_col1\" class=\"data row11 col1\" >mode</td>\n",
       "    </tr>\n",
       "    <tr>\n",
       "      <th id=\"T_e4ed9_level0_row12\" class=\"row_heading level0 row12\" >12</th>\n",
       "      <td id=\"T_e4ed9_row12_col0\" class=\"data row12 col0\" >Fold Generator</td>\n",
       "      <td id=\"T_e4ed9_row12_col1\" class=\"data row12 col1\" >StratifiedKFold</td>\n",
       "    </tr>\n",
       "    <tr>\n",
       "      <th id=\"T_e4ed9_level0_row13\" class=\"row_heading level0 row13\" >13</th>\n",
       "      <td id=\"T_e4ed9_row13_col0\" class=\"data row13 col0\" >Fold Number</td>\n",
       "      <td id=\"T_e4ed9_row13_col1\" class=\"data row13 col1\" >10</td>\n",
       "    </tr>\n",
       "    <tr>\n",
       "      <th id=\"T_e4ed9_level0_row14\" class=\"row_heading level0 row14\" >14</th>\n",
       "      <td id=\"T_e4ed9_row14_col0\" class=\"data row14 col0\" >CPU Jobs</td>\n",
       "      <td id=\"T_e4ed9_row14_col1\" class=\"data row14 col1\" >-1</td>\n",
       "    </tr>\n",
       "    <tr>\n",
       "      <th id=\"T_e4ed9_level0_row15\" class=\"row_heading level0 row15\" >15</th>\n",
       "      <td id=\"T_e4ed9_row15_col0\" class=\"data row15 col0\" >Use GPU</td>\n",
       "      <td id=\"T_e4ed9_row15_col1\" class=\"data row15 col1\" >False</td>\n",
       "    </tr>\n",
       "    <tr>\n",
       "      <th id=\"T_e4ed9_level0_row16\" class=\"row_heading level0 row16\" >16</th>\n",
       "      <td id=\"T_e4ed9_row16_col0\" class=\"data row16 col0\" >Log Experiment</td>\n",
       "      <td id=\"T_e4ed9_row16_col1\" class=\"data row16 col1\" >MlflowLogger</td>\n",
       "    </tr>\n",
       "    <tr>\n",
       "      <th id=\"T_e4ed9_level0_row17\" class=\"row_heading level0 row17\" >17</th>\n",
       "      <td id=\"T_e4ed9_row17_col0\" class=\"data row17 col0\" >Experiment Name</td>\n",
       "      <td id=\"T_e4ed9_row17_col1\" class=\"data row17 col1\" >kobe_dateset</td>\n",
       "    </tr>\n",
       "    <tr>\n",
       "      <th id=\"T_e4ed9_level0_row18\" class=\"row_heading level0 row18\" >18</th>\n",
       "      <td id=\"T_e4ed9_row18_col0\" class=\"data row18 col0\" >USI</td>\n",
       "      <td id=\"T_e4ed9_row18_col1\" class=\"data row18 col1\" >d1de</td>\n",
       "    </tr>\n",
       "  </tbody>\n",
       "</table>\n"
      ],
      "text/plain": [
       "\u001b[1m<\u001b[0m\u001b[1;95mpandas.io.formats.style.Styler\u001b[0m\u001b[39m object at \u001b[0m\u001b[1;36m0x000002435342C310\u001b[0m\u001b[1m>\u001b[0m"
      ]
     },
     "metadata": {},
     "output_type": "display_data"
    },
    {
     "data": {
      "text/html": [
       "<pre style=\"white-space:pre;overflow-x:auto;line-height:normal;font-family:Menlo,'DejaVu Sans Mono',consolas,'Courier New',monospace\"></pre>\n"
      ],
      "text/plain": []
     },
     "metadata": {},
     "output_type": "display_data"
    },
    {
     "data": {
      "text/html": [
       "<pre style=\"white-space:pre;overflow-x:auto;line-height:normal;font-family:Menlo,'DejaVu Sans Mono',consolas,'Courier New',monospace\"></pre>\n"
      ],
      "text/plain": []
     },
     "metadata": {},
     "output_type": "display_data"
    },
    {
     "data": {
      "text/plain": [
       "\u001b[1m<\u001b[0m\u001b[1;95mpycaret.classification.oop.ClassificationExperiment\u001b[0m\u001b[39m object at \u001b[0m\u001b[1;36m0x0000024350EE4090\u001b[0m\u001b[1m>\u001b[0m"
      ]
     },
     "execution_count": 4,
     "metadata": {},
     "output_type": "execute_result"
    }
   ],
   "source": [
    "exp = ClassificationExperiment()\n",
    "exp.setup(data=train, target=\"shot_made_flag\", session_id=1234, log_experiment='mlflow', experiment_name='kobe_dateset')"
   ]
  },
  {
   "cell_type": "code",
   "execution_count": null,
   "id": "f5b863d5-db5d-4042-9139-bc0dd75adf02",
   "metadata": {},
   "outputs": [],
   "source": [
    "exp.get_metrics()"
   ]
  },
  {
   "cell_type": "code",
   "execution_count": null,
   "id": "82f85e1d-6cdc-40dc-ae3a-601a89e59c9d",
   "metadata": {},
   "outputs": [],
   "source": [
    "# exp.compare_models()"
   ]
  },
  {
   "cell_type": "markdown",
   "id": "06ab57c3-7e3e-442f-a4dc-7091bc5344a3",
   "metadata": {},
   "source": [
    "## Nodes"
   ]
  },
  {
   "cell_type": "code",
   "execution_count": null,
   "id": "aec1d18e-80b8-4f78-a573-14d5be30a999",
   "metadata": {},
   "outputs": [],
   "source": [
    "def best_model_comparison(data, session_id):\n",
    "    exp = ClassificationExperiment()\n",
    "    exp.setup(data=train, target=\"shot_made_flag\", session_id=session_id)\n",
    "\n",
    "    best_model = exp.compare_models()\n",
    "\n",
    "    tuned_model = exp.tune_model(best_model, n_inter=100, optimize='AUC')\n",
    "\n",
    "    return tuned_model"
   ]
  },
  {
   "cell_type": "code",
   "execution_count": null,
   "id": "e688fc07-5ff2-43c5-85d3-28975376e827",
   "metadata": {},
   "outputs": [],
   "source": [
    "def logistic_regression(data, session_id):\n",
    "    exp = ClassificationExperiment()\n",
    "    exp.setup(data=train, target=\"shot_made_flag\", session_id=session_id)\n",
    "\n",
    "    model = exp.create_model('lr')\n",
    "\n",
    "    tuned_model = exp.tune_model(best_model, n_inter=100, optimize='AUC')\n",
    "\n",
    "    return tuned_model"
   ]
  },
  {
   "cell_type": "code",
   "execution_count": null,
   "id": "5b97b679-7c24-4c75-bed1-5a125ca73614",
   "metadata": {},
   "outputs": [],
   "source": [
    "def plot_roc(data, model, session_id, output_filename):\n",
    "    exp = ClassificationExperiment()\n",
    "    exp.setup(data=train, target=\"shot_made_flag\", session_id=session_id)\n",
    "\n",
    "    exp.plot_model(model, plot='auc', save=output_filename)\n",
    "    "
   ]
  }
 ],
 "metadata": {
  "kernelspec": {
   "display_name": "Kedro (kobe)",
   "language": "python",
   "name": "kedro_kobe"
  },
  "language_info": {
   "codemirror_mode": {
    "name": "ipython",
    "version": 3
   },
   "file_extension": ".py",
   "mimetype": "text/x-python",
   "name": "python",
   "nbconvert_exporter": "python",
   "pygments_lexer": "ipython3",
   "version": "3.11.4"
  }
 },
 "nbformat": 4,
 "nbformat_minor": 5
}
